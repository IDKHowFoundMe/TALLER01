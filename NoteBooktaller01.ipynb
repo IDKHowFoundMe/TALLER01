{
 "cells": [
  {
   "cell_type": "markdown",
   "id": "e8c12830",
   "metadata": {},
   "source": [
    "# Taller 1\n",
    "\n",
    "**Alumno:** Cristina Moreno  \n",
    "**Materia:** Métodos Numéricos\n",
    "\n",
    "## Introducción\n",
    "\n",
    "En este taller se practicarán conceptos de **series numéricas, algoritmos de ordenamiento y convergencia**, además de la **visualización de resultados** con gráficos.\n",
    "\n",
    "## Ejercicio 1: Sumatoria\n",
    "\n",
    "Realizar la sumatoria:\n",
    "\n",
    "$1 + \\frac{1}{2} + \\frac{1}{4} + \\frac{1}{8} + \\frac{1}{16} + \\frac{1}{32} +$...\n",
    "\n",
    "Tal que el _error absoluto_ cumpla:\n",
    "\n",
    "$e < 10^{-1}$\n",
    "\n",
    "\n",
    "\n"
   ]
  },
  {
   "cell_type": "code",
   "execution_count": 3,
   "id": "8420b028",
   "metadata": {},
   "outputs": [
    {
     "name": "stdout",
     "output_type": "stream",
     "text": [
      "5\n"
     ]
    }
   ],
   "source": [
    "num=1\n",
    "suma=0\n",
    "cont=1\n",
    "for x in range(1,20):\n",
    "    suma+=1/num\n",
    "    num=num*2\n",
    "    if(abs(suma-2)<10**-1):\n",
    "        print (x)\n",
    "        break"
   ]
  },
  {
   "cell_type": "markdown",
   "id": "76356daf",
   "metadata": {},
   "source": [
    "## Ejercicio 2: Bubble Sort\n",
    "\n",
    "Pasar del pseudocódigo el ordenamiento Burbuja (Bubble Sort)\n",
    "\n",
    "\n",
    "![ImagenBubbleSort](./Imagen1.png)\n",
    "\n",
    "Probar con los vectores (casos de prueba)\n",
    "\n",
    "- $v1 = [3,2,5,8,4,1]$\n",
    "- $v2 = [-1, 0, 4, 5, 6, 7]$\n",
    "- Con 100000 numero randomicos entre -200 y 145 realizar y ordenar\n",
    "Libreria\n",
    "    import random\n",
    "    #Generar números random\n",
    "    r = random.randint(-200,145)\n"
   ]
  },
  {
   "cell_type": "code",
   "execution_count": 4,
   "id": "0bac4027",
   "metadata": {},
   "outputs": [
    {
     "name": "stdout",
     "output_type": "stream",
     "text": [
      "Bubble Sort con el vector [3, 2, 5, 8, 4, 1]\n",
      "[2, 3, 5, 8, 4, 1], interación 1  \n",
      "[2, 3, 5, 4, 8, 1], interación 2  \n",
      "[2, 3, 5, 4, 1, 8], interación 3  \n",
      "[2, 3, 4, 5, 1, 8], interación 4  \n",
      "[2, 3, 4, 1, 5, 8], interación 5  \n",
      "[2, 3, 1, 4, 5, 8], interación 6  \n",
      "[2, 1, 3, 4, 5, 8], interación 7  \n",
      "[1, 2, 3, 4, 5, 8], interación 8  \n",
      "BubbleSort con el vector: [-1, 0, 4, 5, 6, 7]\n",
      "BubbleSort con el vector: [-24, -53, 138, 85, -191, 29, -199, 96, 60, -194]\n",
      "[-53, -24, 138, 85, -191, 29, -199, 96, 60, -194], interación 1  \n",
      "[-53, -24, 85, 138, -191, 29, -199, 96, 60, -194], interación 2  \n",
      "[-53, -24, 85, -191, 138, 29, -199, 96, 60, -194], interación 3  \n",
      "[-53, -24, 85, -191, 29, 138, -199, 96, 60, -194], interación 4  \n",
      "[-53, -24, 85, -191, 29, -199, 138, 96, 60, -194], interación 5  \n",
      "[-53, -24, 85, -191, 29, -199, 96, 138, 60, -194], interación 6  \n",
      "[-53, -24, 85, -191, 29, -199, 96, 60, 138, -194], interación 7  \n",
      "[-53, -24, 85, -191, 29, -199, 96, 60, -194, 138], interación 8  \n",
      "[-53, -24, -191, 85, 29, -199, 96, 60, -194, 138], interación 9  \n",
      "[-53, -24, -191, 29, 85, -199, 96, 60, -194, 138], interación 10  \n",
      "[-53, -24, -191, 29, -199, 85, 96, 60, -194, 138], interación 11  \n",
      "[-53, -24, -191, 29, -199, 85, 60, 96, -194, 138], interación 12  \n",
      "[-53, -24, -191, 29, -199, 85, 60, -194, 96, 138], interación 13  \n",
      "[-53, -191, -24, 29, -199, 85, 60, -194, 96, 138], interación 14  \n",
      "[-53, -191, -24, -199, 29, 85, 60, -194, 96, 138], interación 15  \n",
      "[-53, -191, -24, -199, 29, 60, 85, -194, 96, 138], interación 16  \n",
      "[-53, -191, -24, -199, 29, 60, -194, 85, 96, 138], interación 17  \n",
      "[-191, -53, -24, -199, 29, 60, -194, 85, 96, 138], interación 18  \n",
      "[-191, -53, -199, -24, 29, 60, -194, 85, 96, 138], interación 19  \n",
      "[-191, -53, -199, -24, 29, -194, 60, 85, 96, 138], interación 20  \n",
      "[-191, -199, -53, -24, 29, -194, 60, 85, 96, 138], interación 21  \n",
      "[-191, -199, -53, -24, -194, 29, 60, 85, 96, 138], interación 22  \n",
      "[-199, -191, -53, -24, -194, 29, 60, 85, 96, 138], interación 23  \n",
      "[-199, -191, -53, -194, -24, 29, 60, 85, 96, 138], interación 24  \n",
      "[-199, -191, -194, -53, -24, 29, 60, 85, 96, 138], interación 25  \n",
      "[-199, -194, -191, -53, -24, 29, 60, 85, 96, 138], interación 26  \n",
      "Bubble Sort con el vector [5, 4, 3, 2, 1]\n",
      "[4, 5, 3, 2, 1], interación 1  \n",
      "[4, 3, 5, 2, 1], interación 2  \n",
      "[4, 3, 2, 5, 1], interación 3  \n",
      "[4, 3, 2, 1, 5], interación 4  \n",
      "[3, 4, 2, 1, 5], interación 5  \n",
      "[3, 2, 4, 1, 5], interación 6  \n",
      "[3, 2, 1, 4, 5], interación 7  \n",
      "[2, 3, 1, 4, 5], interación 8  \n",
      "[2, 1, 3, 4, 5], interación 9  \n",
      "[1, 2, 3, 4, 5], interación 10  \n"
     ]
    }
   ],
   "source": [
    "import random\n",
    "\n",
    "\n",
    "def bubbleSort(v1):\n",
    "    cont=0\n",
    "    for x in range(len(v1)):\n",
    "        swapped = False\n",
    "        for j in range(1,len(v1)-x):\n",
    "            if v1[j] < v1[j-1]:\n",
    "                t =v1[j]\n",
    "                v1[j] = v1[j-1]\n",
    "                v1[j-1] =t\n",
    "                swapped = True\n",
    "                cont+=1\n",
    "                print(f\"{v1}, interación {cont}  \")\n",
    "    \n",
    "v = [3,2,5,8,4,1]\n",
    "print (f\"Bubble Sort con el vector {v}\")\n",
    "bubbleSort(v)\n",
    "v2 = [-1,0,4,5,6,7]\n",
    "print (f\"BubbleSort con el vector: {v2}\")\n",
    "bubbleSort(v2)\n",
    "v3=[]\n",
    "for x in range(10):\n",
    "    r = random.randint(-200,145)\n",
    "    v3.append(r)\n",
    "print(f\"BubbleSort con el vector: {v3}\")\n",
    "bubbleSort(v3)\n",
    "\n",
    "v4=[5,4,3,2,1]\n",
    "print(f\"Bubble Sort con el vector {v4}\")\n",
    "bubbleSort(v4)\n"
   ]
  },
  {
   "cell_type": "markdown",
   "id": "1fd2f2e6",
   "metadata": {},
   "source": [
    "## Ejercicio 3: Fibonacci\n",
    "\n",
    "Realizar el pseudocódigo a código de fibonacci y encontrar su respuesta\n",
    "\n",
    "\n",
    "![ImagenFibonacci](./Imagen1.png)\n",
    "\n",
    "\n",
    "\n",
    "Casos de Prueba\n",
    "* n=11\n",
    "* n=84\n",
    "* n=1531"
   ]
  },
  {
   "cell_type": "code",
   "execution_count": 5,
   "id": "43f6bb8e",
   "metadata": {},
   "outputs": [
    {
     "name": "stdout",
     "output_type": "stream",
     "text": [
      "Prueba con n:11 y es: 89\n",
      "Prueba con n:84, y es 160500643816367088\n",
      "Prueba con n:1531 y es 40793617605237766910177891101532305954169356679469251968012246320785442201399010062608120133898796842159214701491227645296640251351118097414452512943377923944240851901342511998321837317687231200181404989351498771613091128609066442842273029931595972451439617557382711759593384278734694858010024767646023157013418593547269\n"
     ]
    }
   ],
   "source": [
    "def fibonacci (n):\n",
    "    if n==0:\n",
    "        return 0\n",
    "\n",
    "    x=0\n",
    "    y=1\n",
    "    for i in range(1,n):\n",
    "        z= x+y\n",
    "        x=y\n",
    "        y=z\n",
    "    return y\n",
    "\n",
    "y11=fibonacci(11)\n",
    "print(f\"Prueba con n:11 y es: {y11}\")\n",
    "\n",
    "y84=fibonacci(84)\n",
    "print(f\"Prueba con n:84, y es {y84}\")\n",
    "\n",
    "y1531=fibonacci(1531)\n",
    "print(f\"Prueba con n:1531 y es {y1531}\")"
   ]
  },
  {
   "cell_type": "markdown",
   "id": "03b9fec5",
   "metadata": {},
   "source": [
    "## Ejercicio 3.1: Gráfica del Número Áureo\n",
    "\n",
    "Realizar el número aureo para iteracion hasta n=8 y realizar una gráfica de convergencia\n",
    "$NumeroÁureo= \\frac{fib(n)}{fib(n-1)}$\n",
    "\n",
    "Librerias\n",
    "matplotlib.pyplot\n"
   ]
  },
  {
   "cell_type": "code",
   "execution_count": 1,
   "id": "999009c9",
   "metadata": {},
   "outputs": [
    {
     "data": {
      "image/png": "[encoded data removed]",
      "text/plain": [
       "<Figure size 1000x400 with 2 Axes>"
      ]
     },
     "metadata": {},
     "output_type": "display_data"
    }
   ],
   "source": [
    "import matplotlib.pyplot as plt\n",
    "\n",
    "def fibonacci (n):\n",
    "    if n==0:\n",
    "        return 0\n",
    "\n",
    "    x=0\n",
    "    y=1\n",
    "    for i in range(1,n):\n",
    "        z= x+y\n",
    "        x=y\n",
    "        y=z\n",
    "    return y\n",
    "def numero_aureo(a):\n",
    "    if a <= 1:\n",
    "        return 1\n",
    "    return fibonacci(a) / fibonacci(a-1)\n",
    "\n",
    "\n",
    "num_aureos=[]\n",
    "for x in range (2,9):\n",
    "    num_aureos.append(numero_aureo(x))\n",
    "\n",
    "n=[2,3,4,5,6,7,8]\n",
    "\n",
    "num_Aureo_Real=(1 + 5 ** 0.5) / 2  \n",
    "\n",
    "\n",
    "\n",
    "fig, (ax_tabla, ax_graf) = plt.subplots(1, 2, figsize=(10, 4), gridspec_kw={'width_ratios': [1, 2]})\n",
    "\n",
    "\n",
    "ax_tabla.axis('off')  \n",
    "\n",
    "tabla_datos = list(zip(n, num_aureos))\n",
    "nombres_columna = [\"N\", \"Número Áureo\"]\n",
    "\n",
    "tabla = ax_tabla.table(cellText=tabla_datos,\n",
    "                       colLabels=nombres_columna,\n",
    "                       loc='center',\n",
    "                       colColours=[\"#FF00FF\"]*len(nombres_columna),\n",
    "                       cellLoc='center',\n",
    "                       bbox=[-0.7, 0, 1.7, 1] )\n",
    "\n",
    "tabla.auto_set_font_size(False)\n",
    "tabla.set_fontsize(12)\n",
    "tabla.scale(1, 1.5)\n",
    "\n",
    "\n",
    "ax_graf.plot(n, num_aureos, marker='o', linestyle='-', color='#FF00FF')\n",
    "ax_graf.set_xlabel('N')\n",
    "ax_graf.set_ylabel('Número Áureo')\n",
    "ax_graf.grid(True)\n",
    "ax_graf.axhline(y=num_Aureo_Real, color='red', linestyle='--', linewidth=1)\n",
    "ax_graf.text(8.1, num_Aureo_Real, 'φ ≈ 1.618', color='red', va='center')\n",
    "\n",
    "plt.tight_layout()\n",
    "plt.show()"
   ]
  },
  {
   "cell_type": "markdown",
   "id": "b351f225",
   "metadata": {},
   "source": [
    "## Ejericicio3 Modificado\n",
    "\n",
    "Determinar la iteración desde la cual el error relativo de $\\frac{y_{i+1}}{y_i} (i>0)$  el ultimo valor divido para el penultimo valor con respeccto a $$\\frac{1+\\sqrt{5}}{2}$$ esta dentro de $10^-5$"
   ]
  },
  {
   "cell_type": "code",
   "execution_count": 1,
   "id": "048478eb",
   "metadata": {},
   "outputs": [
    {
     "name": "stdout",
     "output_type": "stream",
     "text": [
      "Se alcanzó el error 14\n"
     ]
    }
   ],
   "source": [
    "\n",
    "import math\n",
    "\n",
    "def fibonacci(n):\n",
    "    if n == 0:\n",
    "        return 0\n",
    "    x = 0\n",
    "    y = 1\n",
    "    for i in range(1, n):\n",
    "        z = x + y\n",
    "        x = y\n",
    "        y = z\n",
    "    return y\n",
    "\n",
    "numReal = (1 + math.sqrt(5)) / 2 \n",
    "\n",
    "for x in range(2, 100):\n",
    "    numerador = fibonacci(x)\n",
    "    denominador = fibonacci(x - 1)\n",
    "    numAprox = numerador/denominador\n",
    "    error_abs =abs(numReal-numAprox)/numReal\n",
    "\n",
    "    if error_abs <= 10**-5:\n",
    "        print(f\"Se alcanzó el error {x}\")\n",
    "        break\n",
    "\n",
    "        \n"
   ]
  },
  {
   "cell_type": "markdown",
   "id": "dcc0ac5e",
   "metadata": {},
   "source": [
    "## Ejercicio 4 \n",
    "Imprementar la serie geometrica y realizar su gráfica\n",
    "\n",
    "Verificar a que numero converge o no\n",
    "\n",
    "$\\sum_{i=1}^{n} \\frac{1}{i}$\n"
   ]
  },
  {
   "cell_type": "code",
   "execution_count": 2,
   "id": "13f7cd21",
   "metadata": {},
   "outputs": [
    {
     "data": {
      "image/png": "[encoded data removed]",
      "text/plain": [
       "<Figure size 800x500 with 1 Axes>"
      ]
     },
     "metadata": {},
     "output_type": "display_data"
    }
   ],
   "source": [
    "import matplotlib.pyplot as plt\n",
    "suma=1\n",
    "n=[]\n",
    "resultados=[]\n",
    "for x in range (1,20):    \n",
    "    suma+=1/x\n",
    "    n.append(x)\n",
    "    resultados.append(suma)\n",
    "\n",
    "fig, ax_graf=plt.subplots(figsize=(8, 5))\n",
    "ax_graf.plot(n, resultados, marker='o', linestyle='-', color='#FF00FF')\n",
    "ax_graf.set_xlabel('N')\n",
    "ax_graf.set_ylabel('Suma de la serie')\n",
    "ax_graf.grid(True)\n",
    "plt.show()"
   ]
  }
 ],
 "metadata": {
  "kernelspec": {
   "display_name": "Python 3",
   "language": "python",
   "name": "python3"
  },
  "language_info": {
   "codemirror_mode": {
    "name": "ipython",
    "version": 3
   },
   "file_extension": ".py",
   "mimetype": "text/x-python",
   "name": "python",
   "nbconvert_exporter": "python",
   "pygments_lexer": "ipython3",
   "version": "3.13.7"
  }
 },
 "nbformat": 4,
 "nbformat_minor": 5
}
